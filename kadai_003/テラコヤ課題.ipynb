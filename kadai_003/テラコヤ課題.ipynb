{
  "nbformat": 4,
  "nbformat_minor": 0,
  "metadata": {
    "colab": {
      "provenance": []
    },
    "kernelspec": {
      "name": "python3",
      "display_name": "Python 3"
    },
    "language_info": {
      "name": "python"
    }
  },
  "cells": [
    {
      "cell_type": "code",
      "source": [
        "import numpy as np\n",
        "A = np.arange(6).reshape(3,2)\n",
        "B = np.arange(8).reshape(2,4)\n",
        "print(A)\n",
        "print(B)"
      ],
      "metadata": {
        "colab": {
          "base_uri": "https://localhost:8080/"
        },
        "id": "SmcHOlAqIu8c",
        "outputId": "c54921e0-3f74-4b28-952c-189f211bbd1f"
      },
      "execution_count": 1,
      "outputs": [
        {
          "output_type": "stream",
          "name": "stdout",
          "text": [
            "[[0 1]\n",
            " [2 3]\n",
            " [4 5]]\n",
            "[[0 1 2 3]\n",
            " [4 5 6 7]]\n"
          ]
        }
      ]
    },
    {
      "cell_type": "code",
      "source": [
        "C = np.dot(A, B)\n",
        "print(C)"
      ],
      "metadata": {
        "colab": {
          "base_uri": "https://localhost:8080/"
        },
        "id": "V8-8oRHTJXQG",
        "outputId": "4b2e9887-2e4d-4ff7-f5fe-4b86942cfe69"
      },
      "execution_count": 4,
      "outputs": [
        {
          "output_type": "stream",
          "name": "stdout",
          "text": [
            "[[ 4  5  6  7]\n",
            " [12 17 22 27]\n",
            " [20 29 38 47]]\n"
          ]
        }
      ]
    },
    {
      "cell_type": "code",
      "source": [
        "print(np.max(C))"
      ],
      "metadata": {
        "colab": {
          "base_uri": "https://localhost:8080/"
        },
        "id": "hrx9Fy3hKfmD",
        "outputId": "7d63c685-096f-4192-ab9c-3f96a4f6032e"
      },
      "execution_count": 5,
      "outputs": [
        {
          "output_type": "stream",
          "name": "stdout",
          "text": [
            "47\n"
          ]
        }
      ]
    }
  ]
}